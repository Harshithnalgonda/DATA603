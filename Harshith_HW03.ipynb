{
 "cells": [
  {
   "cell_type": "markdown",
   "metadata": {
    "id": "7KBq2vsl5-WK"
   },
   "source": [
    "\n",
    "\n",
    "*   Crime Investigators\n",
    "*   Working with Crime Data\n",
    "*   You must use Apache Spark for this assignment.\n",
    "*   Chicago crime dataset (https://data.cityofchicago.org/Public-Safety/Crimes-2001-to-Present/ijzp-q8t2/data).\n"
   ]
  },
  {
   "cell_type": "markdown",
   "metadata": {
    "id": "TraNd1RP2XL-"
   },
   "source": [
    "**1.Install the required libraries**"
   ]
  },
  {
   "cell_type": "code",
   "execution_count": 79,
   "metadata": {
    "id": "XY62dhAI1w0H"
   },
   "outputs": [
    {
     "name": "stdout",
     "output_type": "stream",
     "text": [
      "Requirement already satisfied: pyspark in /Users/harshithnalgonda/opt/anaconda3/lib/python3.9/site-packages (3.3.2)\r\n",
      "Requirement already satisfied: py4j==0.10.9.5 in /Users/harshithnalgonda/opt/anaconda3/lib/python3.9/site-packages (from pyspark) (0.10.9.5)\r\n"
     ]
    }
   ],
   "source": [
    "!pip install pyspark"
   ]
  },
  {
   "cell_type": "markdown",
   "metadata": {
    "id": "XOzElf5u2BLl"
   },
   "source": [
    "**2.Create a Spark Session**"
   ]
  },
  {
   "cell_type": "code",
   "execution_count": 80,
   "metadata": {
    "id": "YyYmXn431f0m"
   },
   "outputs": [],
   "source": [
    "from pyspark.sql import SparkSession\n",
    "from pyspark.sql.types import StructType,StructField, StringType, IntegerType, DoubleType, BooleanType, DateType\n",
    "spark = SparkSession.builder.appName(\"Crime_Investigation\").getOrCreate()"
   ]
  },
  {
   "cell_type": "markdown",
   "metadata": {
    "id": "S4g0IUlx2HLy"
   },
   "source": [
    "**3.Define the schema for loading the Chicago crime dataset**<br>"
   ]
  },
  {
   "cell_type": "code",
   "execution_count": 81,
   "metadata": {
    "id": "N8v_VyLm2GVz"
   },
   "outputs": [],
   "source": [
    "#defining the schema for chicago crime dataset\n",
    "schema = StructType([StructField(\"ID\",StringType(),True),\n",
    "                     StructField(\"CaseNumber\",StringType(),True),\n",
    "                     StructField(\"Date\",StringType(),True),\n",
    "                     StructField(\"Block\", StringType(), True), \n",
    "                     StructField(\"IUCR\", StringType(), True), \n",
    "                     StructField(\"PrimaryType\", StringType(), True),\n",
    "                     StructField(\"Description\", StringType(), True),\n",
    "                     StructField(\"LocationDescription\", StringType(), True),\n",
    "                     StructField(\"Arrest\", BooleanType(), True),\n",
    "                     StructField(\"Domestic\", BooleanType(), True),\n",
    "                     StructField(\"Beat\", StringType(), True),\n",
    "                     StructField(\"District\", StringType(), True),\n",
    "                     StructField(\"Ward\", StringType(), True),\n",
    "                     StructField(\"CommunityArea\", StringType(), True),\n",
    "                     StructField(\"FBICode\", StringType(), True ),\n",
    "                     StructField(\"XCoordinate\", DoubleType(), True),\n",
    "                     StructField(\"YCoordinate\", DoubleType(), True ),\n",
    "                     StructField(\"Year\", IntegerType(), True),\n",
    "                     StructField(\"UpdatedOn\", StringType(), True ),\n",
    "                     StructField(\"Latitude\", DoubleType(), True),\n",
    "                     StructField(\"Longitude\", DoubleType(), True),\n",
    "                     StructField(\"Location\", StringType(), True )\n",
    "                     ])"
   ]
  },
  {
   "cell_type": "markdown",
   "metadata": {
    "id": "sYFYGb3v5Fyv"
   },
   "source": [
    "**4.Load the Chicago crime data (you should get more than a million rows).**"
   ]
  },
  {
   "cell_type": "code",
   "execution_count": 83,
   "metadata": {
    "id": "4LhZfDB949X-"
   },
   "outputs": [],
   "source": [
    "#reading the csv file and loading the data into spark dataframe.\n",
    "crime_data = spark.read.csv('Crimes_-_2001_to_Present.csv',\n",
    "                            header = True, \n",
    "                            schema = schema)"
   ]
  },
  {
   "cell_type": "code",
   "execution_count": 84,
   "metadata": {
    "colab": {
     "base_uri": "https://localhost:8080/"
    },
    "id": "y7X4U6GhI3cd",
    "outputId": "11260762-129c-4584-8e1a-6218b79b446a"
   },
   "outputs": [
    {
     "name": "stderr",
     "output_type": "stream",
     "text": [
      "[Stage 246:================================>                       (8 + 6) / 14]\r"
     ]
    },
    {
     "name": "stdout",
     "output_type": "stream",
     "text": [
      "Chicago Crime dataset has 7760248 records\n"
     ]
    },
    {
     "name": "stderr",
     "output_type": "stream",
     "text": [
      "\r",
      "[Stage 246:====================================>                   (9 + 5) / 14]\r",
      "\r",
      "                                                                                \r"
     ]
    }
   ],
   "source": [
    "print('Chicago Crime dataset has',crime_data.count(),'records')"
   ]
  },
  {
   "cell_type": "markdown",
   "metadata": {
    "id": "AxRywWOfJzht"
   },
   "source": [
    "From the above result, it is evident that the dataset contains more than a million rows."
   ]
  },
  {
   "cell_type": "code",
   "execution_count": 42,
   "metadata": {
    "colab": {
     "base_uri": "https://localhost:8080/",
     "height": 232
    },
    "id": "10pUZbnDImJO",
    "outputId": "c21a1501-f280-4867-e506-5e42912957c2"
   },
   "outputs": [
    {
     "data": {
      "text/html": [
       "<style>pre { white-space: pre !important; }</style>"
      ],
      "text/plain": [
       "<IPython.core.display.HTML object>"
      ]
     },
     "metadata": {},
     "output_type": "display_data"
    },
    {
     "name": "stdout",
     "output_type": "stream",
     "text": [
      "23/03/26 15:00:39 WARN CSVHeaderChecker: CSV header does not conform to the schema.\n",
      " Header: ID, Case Number, Date, Block, IUCR, Primary Type, Description, Location Description, Arrest, Domestic, Beat, District, Ward, Community Area, FBI Code, X Coordinate, Y Coordinate, Year, Updated On, Latitude, Longitude, Location\n",
      " Schema: ID, CaseNumber, Date, Block, IUCR, PrimaryType, Description, LocationDescription, Arrest, Domestic, Beat, District, Ward, CommunityArea, FBICode, XCoordinate, YCoordinate, Year, UpdatedOn, Latitude, Longitude, Location\n",
      "Expected: CaseNumber but found: Case Number\n",
      "CSV file: file:///Users/harshithnalgonda/Downloads/Chicago_Crimes_Spark/Crimes_-_2001_to_Present.csv\n",
      "+--------+----------+----------------------+---------------------+----+-----------+-----------------------+-------------------+------+--------+----+--------+----+-------------+-------+-----------+-----------+----+----------------------+------------+-------------+-----------------------------+\n",
      "|ID      |CaseNumber|Date                  |Block                |IUCR|PrimaryType|Description            |LocationDescription|Arrest|Domestic|Beat|District|Ward|CommunityArea|FBICode|XCoordinate|YCoordinate|Year|UpdatedOn             |Latitude    |Longitude    |Location                     |\n",
      "+--------+----------+----------------------+---------------------+----+-----------+-----------------------+-------------------+------+--------+----+--------+----+-------------+-------+-----------+-----------+----+----------------------+------------+-------------+-----------------------------+\n",
      "|10224738|HY411648  |09/05/2015 01:30:00 PM|043XX S WOOD ST      |0486|BATTERY    |DOMESTIC BATTERY SIMPLE|RESIDENCE          |false |true    |0924|009     |12  |61           |08B    |1165074.0  |1875917.0  |2015|02/10/2018 03:50:01 PM|41.815117282|-87.669999562|(41.815117282, -87.669999562)|\n",
      "|10224739|HY411615  |09/04/2015 11:30:00 AM|008XX N CENTRAL AVE  |0870|THEFT      |POCKET-PICKING         |CTA BUS            |false |false   |1511|015     |29  |25           |06     |1138875.0  |1904869.0  |2015|02/10/2018 03:50:01 PM|41.895080471|-87.765400451|(41.895080471, -87.765400451)|\n",
      "|11646166|JC213529  |09/01/2018 12:01:00 AM|082XX S INGLESIDE AVE|0810|THEFT      |OVER $500              |RESIDENCE          |false |true    |0631|006     |8   |44           |06     |null       |null       |2018|04/06/2019 04:04:43 PM|null        |null         |null                         |\n",
      "|10224740|HY411595  |09/05/2015 12:45:00 PM|035XX W BARRY AVE    |2023|NARCOTICS  |POSS: HEROIN(BRN/TAN)  |SIDEWALK           |true  |false   |1412|014     |35  |21           |18     |1152037.0  |1920384.0  |2015|02/10/2018 03:50:01 PM|41.937405765|-87.716649687|(41.937405765, -87.716649687)|\n",
      "|10224741|HY411610  |09/05/2015 01:00:00 PM|0000X N LARAMIE AVE  |0560|ASSAULT    |SIMPLE                 |APARTMENT          |false |true    |1522|015     |28  |25           |08A    |1141706.0  |1900086.0  |2015|02/10/2018 03:50:01 PM|41.881903443|-87.755121152|(41.881903443, -87.755121152)|\n",
      "+--------+----------+----------------------+---------------------+----+-----------+-----------------------+-------------------+------+--------+----+--------+----+-------------+-------+-----------+-----------+----+----------------------+------------+-------------+-----------------------------+\n",
      "only showing top 5 rows\n",
      "\n"
     ]
    }
   ],
   "source": [
    "#printing first 5 rows of the dataset.\n",
    "from IPython.core.display import HTML\n",
    "display(HTML(\"<style>pre { white-space: pre !important; }</style>\"))\n",
    "crime_data.show(5,truncate = False)"
   ]
  },
  {
   "cell_type": "markdown",
   "metadata": {
    "id": "lmnubuXR0nR3"
   },
   "source": [
    "**5.Clean the data:**"
   ]
  },
  {
   "cell_type": "code",
   "execution_count": 85,
   "metadata": {
    "colab": {
     "base_uri": "https://localhost:8080/"
    },
    "id": "G6ut5CihKzOI",
    "outputId": "faec0513-af34-44f5-fa66-3d82edb0fbf1"
   },
   "outputs": [
    {
     "name": "stderr",
     "output_type": "stream",
     "text": [
      "                                                                                \r"
     ]
    },
    {
     "name": "stdout",
     "output_type": "stream",
     "text": [
      "23/03/26 15:02:07 WARN CSVHeaderChecker: CSV header does not conform to the schema.\n",
      " Header: Case Number\n",
      " Schema: CaseNumber\n",
      "Expected: CaseNumber but found: Case Number\n",
      "CSV file: file:///Users/harshithnalgonda/Downloads/Chicago_Crimes_Spark/Crimes_-_2001_to_Present.csv\n"
     ]
    },
    {
     "name": "stderr",
     "output_type": "stream",
     "text": [
      "                                                                                \r"
     ]
    },
    {
     "name": "stdout",
     "output_type": "stream",
     "text": [
      "23/03/26 15:02:15 WARN CSVHeaderChecker: CSV header does not conform to the schema.\n",
      " Header: Primary Type\n",
      " Schema: PrimaryType\n",
      "Expected: PrimaryType but found: Primary Type\n",
      "CSV file: file:///Users/harshithnalgonda/Downloads/Chicago_Crimes_Spark/Crimes_-_2001_to_Present.csv\n"
     ]
    },
    {
     "name": "stderr",
     "output_type": "stream",
     "text": [
      "                                                                                \r"
     ]
    },
    {
     "name": "stdout",
     "output_type": "stream",
     "text": [
      "23/03/26 15:02:19 WARN CSVHeaderChecker: CSV header does not conform to the schema.\n",
      " Header: Location Description\n",
      " Schema: LocationDescription\n",
      "Expected: LocationDescription but found: Location Description\n",
      "CSV file: file:///Users/harshithnalgonda/Downloads/Chicago_Crimes_Spark/Crimes_-_2001_to_Present.csv\n"
     ]
    },
    {
     "name": "stderr",
     "output_type": "stream",
     "text": [
      "                                                                                \r"
     ]
    },
    {
     "name": "stdout",
     "output_type": "stream",
     "text": [
      "23/03/26 15:02:32 WARN CSVHeaderChecker: CSV header does not conform to the schema.\n",
      " Header: Community Area\n",
      " Schema: CommunityArea\n",
      "Expected: CommunityArea but found: Community Area\n",
      "CSV file: file:///Users/harshithnalgonda/Downloads/Chicago_Crimes_Spark/Crimes_-_2001_to_Present.csv\n"
     ]
    },
    {
     "name": "stderr",
     "output_type": "stream",
     "text": [
      "                                                                                \r"
     ]
    },
    {
     "name": "stdout",
     "output_type": "stream",
     "text": [
      "23/03/26 15:02:34 WARN CSVHeaderChecker: CSV header does not conform to the schema.\n",
      " Header: FBI Code\n",
      " Schema: FBICode\n",
      "Expected: FBICode but found: FBI Code\n",
      "CSV file: file:///Users/harshithnalgonda/Downloads/Chicago_Crimes_Spark/Crimes_-_2001_to_Present.csv\n"
     ]
    },
    {
     "name": "stderr",
     "output_type": "stream",
     "text": [
      "                                                                                \r"
     ]
    },
    {
     "name": "stdout",
     "output_type": "stream",
     "text": [
      "23/03/26 15:02:37 WARN CSVHeaderChecker: CSV header does not conform to the schema.\n",
      " Header: X Coordinate\n",
      " Schema: XCoordinate\n",
      "Expected: XCoordinate but found: X Coordinate\n",
      "CSV file: file:///Users/harshithnalgonda/Downloads/Chicago_Crimes_Spark/Crimes_-_2001_to_Present.csv\n"
     ]
    },
    {
     "name": "stderr",
     "output_type": "stream",
     "text": [
      "                                                                                \r"
     ]
    },
    {
     "name": "stdout",
     "output_type": "stream",
     "text": [
      "23/03/26 15:02:39 WARN CSVHeaderChecker: CSV header does not conform to the schema.\n",
      " Header: Y Coordinate\n",
      " Schema: YCoordinate\n",
      "Expected: YCoordinate but found: Y Coordinate\n",
      "CSV file: file:///Users/harshithnalgonda/Downloads/Chicago_Crimes_Spark/Crimes_-_2001_to_Present.csv\n"
     ]
    },
    {
     "name": "stderr",
     "output_type": "stream",
     "text": [
      "                                                                                \r"
     ]
    },
    {
     "name": "stdout",
     "output_type": "stream",
     "text": [
      "23/03/26 15:02:43 WARN CSVHeaderChecker: CSV header does not conform to the schema.\n",
      " Header: Updated On\n",
      " Schema: UpdatedOn\n",
      "Expected: UpdatedOn but found: Updated On\n",
      "CSV file: file:///Users/harshithnalgonda/Downloads/Chicago_Crimes_Spark/Crimes_-_2001_to_Present.csv\n"
     ]
    },
    {
     "name": "stderr",
     "output_type": "stream",
     "text": [
      "                                                                                \r"
     ]
    },
    {
     "data": {
      "text/plain": [
       "{'ID': 0,\n",
       " 'CaseNumber': 4,\n",
       " 'Date': 0,\n",
       " 'Block': 0,\n",
       " 'IUCR': 0,\n",
       " 'PrimaryType': 0,\n",
       " 'Description': 0,\n",
       " 'LocationDescription': 10217,\n",
       " 'Arrest': 0,\n",
       " 'Domestic': 0,\n",
       " 'Beat': 0,\n",
       " 'District': 47,\n",
       " 'Ward': 614848,\n",
       " 'CommunityArea': 613476,\n",
       " 'FBICode': 0,\n",
       " 'XCoordinate': 85733,\n",
       " 'YCoordinate': 85733,\n",
       " 'Year': 0,\n",
       " 'UpdatedOn': 0,\n",
       " 'Latitude': 85733,\n",
       " 'Longitude': 85733,\n",
       " 'Location': 85733}"
      ]
     },
     "execution_count": 85,
     "metadata": {},
     "output_type": "execute_result"
    }
   ],
   "source": [
    "#check if spark dataframe has null values.\n",
    "#this dictionary gives the count of null values for each column in spark dataframe.\n",
    "{col:crime_data.filter(crime_data[col].isNull()).count() for col in crime_data.columns}"
   ]
  },
  {
   "cell_type": "markdown",
   "metadata": {
    "id": "v6fu2EJf07BU"
   },
   "source": [
    "**5.1 Remove all null values.**\n"
   ]
  },
  {
   "cell_type": "code",
   "execution_count": 86,
   "metadata": {
    "id": "fY2Rjy4_T0Fr"
   },
   "outputs": [],
   "source": [
    "#dropping all the null values from the spark dataframe \n",
    "crime_data_cleaned = crime_data.dropna()"
   ]
  },
  {
   "cell_type": "code",
   "execution_count": 87,
   "metadata": {
    "colab": {
     "base_uri": "https://localhost:8080/"
    },
    "id": "Athf94pWufCn",
    "outputId": "3947bf9c-45fd-4c7f-a79d-3238d6045e90"
   },
   "outputs": [
    {
     "name": "stdout",
     "output_type": "stream",
     "text": [
      "23/03/26 15:02:52 WARN CSVHeaderChecker: CSV header does not conform to the schema.\n",
      " Header: ID, Case Number, Date, Block, IUCR, Primary Type, Description, Location Description, Arrest, Domestic, Beat, District, Ward, Community Area, FBI Code, X Coordinate, Y Coordinate, Year, Updated On, Latitude, Longitude, Location\n",
      " Schema: ID, CaseNumber, Date, Block, IUCR, PrimaryType, Description, LocationDescription, Arrest, Domestic, Beat, District, Ward, CommunityArea, FBICode, XCoordinate, YCoordinate, Year, UpdatedOn, Latitude, Longitude, Location\n",
      "Expected: CaseNumber but found: Case Number\n",
      "CSV file: file:///Users/harshithnalgonda/Downloads/Chicago_Crimes_Spark/Crimes_-_2001_to_Present.csv\n"
     ]
    },
    {
     "name": "stderr",
     "output_type": "stream",
     "text": [
      "[Stage 315:====================================>                   (9 + 5) / 14]\r"
     ]
    },
    {
     "name": "stdout",
     "output_type": "stream",
     "text": [
      "Number of records in the chicago dataset after removing null values is 7061244\n"
     ]
    },
    {
     "name": "stderr",
     "output_type": "stream",
     "text": [
      "\r",
      "                                                                                \r"
     ]
    }
   ],
   "source": [
    "#checking the number of records remained after removing the null values from the spark dataframe\n",
    "print('Number of records in the chicago dataset after removing null values is',\n",
    "       crime_data_cleaned.count())"
   ]
  },
  {
   "cell_type": "markdown",
   "metadata": {
    "id": "-z_QQkhO0YCH"
   },
   "source": [
    "**5.2 Change 'Date' column data type**"
   ]
  },
  {
   "cell_type": "code",
   "execution_count": 88,
   "metadata": {
    "colab": {
     "base_uri": "https://localhost:8080/"
    },
    "id": "-AMb4FQ81CkK",
    "outputId": "086150e1-1c38-46db-a544-0b962fadf814"
   },
   "outputs": [
    {
     "name": "stdout",
     "output_type": "stream",
     "text": [
      "root\n",
      " |-- ID: string (nullable = true)\n",
      " |-- CaseNumber: string (nullable = true)\n",
      " |-- Date: string (nullable = true)\n",
      " |-- Block: string (nullable = true)\n",
      " |-- IUCR: string (nullable = true)\n",
      " |-- PrimaryType: string (nullable = true)\n",
      " |-- Description: string (nullable = true)\n",
      " |-- LocationDescription: string (nullable = true)\n",
      " |-- Arrest: boolean (nullable = true)\n",
      " |-- Domestic: boolean (nullable = true)\n",
      " |-- Beat: string (nullable = true)\n",
      " |-- District: string (nullable = true)\n",
      " |-- Ward: string (nullable = true)\n",
      " |-- CommunityArea: string (nullable = true)\n",
      " |-- FBICode: string (nullable = true)\n",
      " |-- XCoordinate: double (nullable = true)\n",
      " |-- YCoordinate: double (nullable = true)\n",
      " |-- Year: integer (nullable = true)\n",
      " |-- UpdatedOn: string (nullable = true)\n",
      " |-- Latitude: double (nullable = true)\n",
      " |-- Longitude: double (nullable = true)\n",
      " |-- Location: string (nullable = true)\n",
      "\n"
     ]
    }
   ],
   "source": [
    "#check the data type of date column \n",
    "crime_data_cleaned.printSchema()"
   ]
  },
  {
   "cell_type": "markdown",
   "metadata": {
    "id": "S5JSKeBPWiPV"
   },
   "source": [
    "It can be observed from the above information that the date column is of string data type."
   ]
  },
  {
   "cell_type": "code",
   "execution_count": 89,
   "metadata": {
    "id": "IcZfXZoc5qe6"
   },
   "outputs": [],
   "source": [
    "from pyspark.sql.functions import unix_timestamp, from_unixtime, year, to_timestamp, hour"
   ]
  },
  {
   "cell_type": "code",
   "execution_count": 90,
   "metadata": {
    "id": "Dznt78zt2Xo6"
   },
   "outputs": [],
   "source": [
    "#changing the format of the Date column (from 12 hr to 24 hr) \n",
    "#and storing the data in new column by name Date_time before dropping Date column.\n",
    "crime_data_changed_datatype = crime_data_cleaned.withColumn('Date_time', \n",
    "                              from_unixtime(unix_timestamp('Date','MM/dd/yyyy hh:mm:ss a'),'yyyy-MM-dd HH:mm:ss'))\\\n",
    "                              .drop('Date')"
   ]
  },
  {
   "cell_type": "code",
   "execution_count": 91,
   "metadata": {
    "id": "zIPESlrbAVL8"
   },
   "outputs": [],
   "source": [
    "#converting the Date_time data type from string to time stamp\n",
    "crime_data_changed_datatype = crime_data_changed_datatype.withColumn(\"Date_time\",to_timestamp('Date_time'))"
   ]
  },
  {
   "cell_type": "code",
   "execution_count": 92,
   "metadata": {
    "colab": {
     "base_uri": "https://localhost:8080/"
    },
    "id": "-zINE0mh3wtl",
    "outputId": "8f984c51-8026-41bd-db3e-97770e493ccd"
   },
   "outputs": [
    {
     "name": "stdout",
     "output_type": "stream",
     "text": [
      "root\n",
      " |-- ID: string (nullable = true)\n",
      " |-- CaseNumber: string (nullable = true)\n",
      " |-- Block: string (nullable = true)\n",
      " |-- IUCR: string (nullable = true)\n",
      " |-- PrimaryType: string (nullable = true)\n",
      " |-- Description: string (nullable = true)\n",
      " |-- LocationDescription: string (nullable = true)\n",
      " |-- Arrest: boolean (nullable = true)\n",
      " |-- Domestic: boolean (nullable = true)\n",
      " |-- Beat: string (nullable = true)\n",
      " |-- District: string (nullable = true)\n",
      " |-- Ward: string (nullable = true)\n",
      " |-- CommunityArea: string (nullable = true)\n",
      " |-- FBICode: string (nullable = true)\n",
      " |-- XCoordinate: double (nullable = true)\n",
      " |-- YCoordinate: double (nullable = true)\n",
      " |-- Year: integer (nullable = true)\n",
      " |-- UpdatedOn: string (nullable = true)\n",
      " |-- Latitude: double (nullable = true)\n",
      " |-- Longitude: double (nullable = true)\n",
      " |-- Location: string (nullable = true)\n",
      " |-- Date_time: timestamp (nullable = true)\n",
      "\n"
     ]
    }
   ],
   "source": [
    "crime_data_changed_datatype.printSchema()"
   ]
  },
  {
   "cell_type": "markdown",
   "metadata": {
    "id": "FdBqiVfCXkwZ"
   },
   "source": [
    "From the above information, it can be observed that the Date_column datatype has been changed to timestamp."
   ]
  },
  {
   "cell_type": "markdown",
   "metadata": {
    "id": "IqK1J8bXCi7L"
   },
   "source": [
    "**5.3 Filter the data for last ten years.**"
   ]
  },
  {
   "cell_type": "code",
   "execution_count": 93,
   "metadata": {
    "id": "onyllN2oC_Ue"
   },
   "outputs": [],
   "source": [
    "#filtering the data based on condition i.e., data from year 2014 to 2023\n",
    "crime_data_last_10_years = crime_data_changed_datatype.filter(crime_data_changed_datatype.Year>(2023-10))"
   ]
  },
  {
   "cell_type": "markdown",
   "metadata": {
    "id": "3hQuBwFHT7R1"
   },
   "source": [
    "**5.4 Remove all the records with the following crime types:**<br>\n",
    "'NON-CRIMINAL (SUBJECT SPECIFIED)'\n",
    "'OTHER OFFENSE'\n",
    "'STALKING'\n",
    "'NON - CRIMINAL'\n",
    "'ARSON'"
   ]
  },
  {
   "cell_type": "code",
   "execution_count": 94,
   "metadata": {
    "id": "L0kruuqnJjqf"
   },
   "outputs": [],
   "source": [
    "#removing all the records for the above mentioned crime types.\n",
    "crime_data_filtered_crimetypes = crime_data_last_10_years.filter(\"PrimaryType NOT IN \\\n",
    "                                ('NON-CRIMINAL (SUBJECT SPECIFIED)','OTHER OFFENSE', \\\n",
    "                                 'STALKING','NON - CRIMINAL','ARSON')\")"
   ]
  },
  {
   "cell_type": "markdown",
   "metadata": {
    "id": "ECDxAF75W-NO"
   },
   "source": [
    "**5.5 Merge the similar crime types.**<br>\n",
    "For example, change 'Primary Type' of cases that have 'Primary Type' as ‘SEX OFFENSE’ or ‘PROSTITUTION’ such that they should have the same 'Primary Type'.\n"
   ]
  },
  {
   "cell_type": "code",
   "execution_count": 53,
   "metadata": {
    "id": "fn72u5hTVjr_"
   },
   "outputs": [],
   "source": [
    "from pyspark.sql.functions import when\n",
    "crime_data_merged_crimetypes = crime_data_filtered_crimetypes.withColumn(\"PrimaryType\", \\\n",
    "                               when(crime_data_filtered_crimetypes.PrimaryType == \"PROSTITUTION\",\"SEX OFFENSE\").\\\n",
    "                               otherwise(crime_data_filtered_crimetypes.PrimaryType))"
   ]
  },
  {
   "cell_type": "code",
   "execution_count": 54,
   "metadata": {
    "colab": {
     "base_uri": "https://localhost:8080/"
    },
    "id": "YKH1SCVSaDjH",
    "outputId": "d6cacec2-22a0-40bf-d0c5-917cfee54771"
   },
   "outputs": [
    {
     "name": "stdout",
     "output_type": "stream",
     "text": [
      "23/03/26 15:01:31 WARN CSVHeaderChecker: CSV header does not conform to the schema.\n",
      " Header: ID, Case Number, Date, Block, IUCR, Primary Type, Description, Location Description, Arrest, Domestic, Beat, District, Ward, Community Area, FBI Code, X Coordinate, Y Coordinate, Year, Updated On, Latitude, Longitude, Location\n",
      " Schema: ID, CaseNumber, Date, Block, IUCR, PrimaryType, Description, LocationDescription, Arrest, Domestic, Beat, District, Ward, CommunityArea, FBICode, XCoordinate, YCoordinate, Year, UpdatedOn, Latitude, Longitude, Location\n",
      "Expected: CaseNumber but found: Case Number\n",
      "CSV file: file:///Users/harshithnalgonda/Downloads/Chicago_Crimes_Spark/Crimes_-_2001_to_Present.csv\n"
     ]
    },
    {
     "name": "stderr",
     "output_type": "stream",
     "text": [
      "[Stage 228:===========================================>           (11 + 3) / 14]\r"
     ]
    },
    {
     "name": "stdout",
     "output_type": "stream",
     "text": [
      "+---------------------------------+\n",
      "|PrimaryType                      |\n",
      "+---------------------------------+\n",
      "|OFFENSE INVOLVING CHILDREN       |\n",
      "|CRIMINAL SEXUAL ASSAULT          |\n",
      "|PUBLIC PEACE VIOLATION           |\n",
      "|OBSCENITY                        |\n",
      "|GAMBLING                         |\n",
      "|CRIMINAL TRESPASS                |\n",
      "|ASSAULT                          |\n",
      "|LIQUOR LAW VIOLATION             |\n",
      "|MOTOR VEHICLE THEFT              |\n",
      "|THEFT                            |\n",
      "|BATTERY                          |\n",
      "|ROBBERY                          |\n",
      "|HOMICIDE                         |\n",
      "|PUBLIC INDECENCY                 |\n",
      "|CRIM SEXUAL ASSAULT              |\n",
      "|HUMAN TRAFFICKING                |\n",
      "|INTIMIDATION                     |\n",
      "|DECEPTIVE PRACTICE               |\n",
      "|CONCEALED CARRY LICENSE VIOLATION|\n",
      "|SEX OFFENSE                      |\n",
      "+---------------------------------+\n",
      "only showing top 20 rows\n",
      "\n"
     ]
    },
    {
     "name": "stderr",
     "output_type": "stream",
     "text": [
      "\r",
      "[Stage 228:===================================================>   (13 + 1) / 14]\r",
      "\r",
      "                                                                                \r"
     ]
    }
   ],
   "source": [
    "crime_data_merged_crimetypes.select(['PrimaryType']).distinct().show(truncate = False)"
   ]
  },
  {
   "cell_type": "markdown",
   "metadata": {
    "id": "H6dPRlNnbdcG"
   },
   "source": [
    "We can observe from the above information that the CRIMINAL SEXUAL ASSAULT and CRIM SEXUAL ASSAULT crime types looks similar and therefore merging them into of single crime type as CRIMINAL SEXUAL ASSAULT."
   ]
  },
  {
   "cell_type": "code",
   "execution_count": 55,
   "metadata": {
    "id": "C0nJ1G10b5PW"
   },
   "outputs": [],
   "source": [
    "crime_data_merged_crimetypes = crime_data_merged_crimetypes.withColumn(\"PrimaryType\", \\\n",
    "                               when(crime_data_merged_crimetypes.PrimaryType == \"CRIM SEXUAL ASSAULT\",\\\n",
    "                               \"CRIMINAL SEXUAL ASSAULT\").otherwise(crime_data_merged_crimetypes.PrimaryType))"
   ]
  },
  {
   "cell_type": "markdown",
   "metadata": {
    "id": "g5KqSotVcUuB"
   },
   "source": [
    "**6. Analyze the data and present results:**"
   ]
  },
  {
   "cell_type": "markdown",
   "metadata": {
    "id": "HkibemizcUz6"
   },
   "source": [
    "**6.1 Show year-wise trend of the crime for last ten years.**\n"
   ]
  },
  {
   "cell_type": "code",
   "execution_count": 56,
   "metadata": {
    "id": "fgoKXGsScnWw"
   },
   "outputs": [
    {
     "name": "stdout",
     "output_type": "stream",
     "text": [
      "23/03/26 15:01:34 WARN CSVHeaderChecker: CSV header does not conform to the schema.\n",
      " Header: ID, Case Number, Date, Block, IUCR, Primary Type, Description, Location Description, Arrest, Domestic, Beat, District, Ward, Community Area, FBI Code, X Coordinate, Y Coordinate, Year, Updated On, Latitude, Longitude, Location\n",
      " Schema: ID, CaseNumber, Date, Block, IUCR, PrimaryType, Description, LocationDescription, Arrest, Domestic, Beat, District, Ward, CommunityArea, FBICode, XCoordinate, YCoordinate, Year, UpdatedOn, Latitude, Longitude, Location\n",
      "Expected: CaseNumber but found: Case Number\n",
      "CSV file: file:///Users/harshithnalgonda/Downloads/Chicago_Crimes_Spark/Crimes_-_2001_to_Present.csv\n"
     ]
    },
    {
     "name": "stderr",
     "output_type": "stream",
     "text": [
      "                                                                                \r"
     ]
    }
   ],
   "source": [
    "import pandas as pd\n",
    "year_counts = {}\n",
    "for i in crime_data_merged_crimetypes.groupBy(\"Year\").count().collect():\n",
    "    year_counts[i[0]] = i[1]  "
   ]
  },
  {
   "cell_type": "code",
   "execution_count": 57,
   "metadata": {
    "id": "70fLCdZ9fkCL"
   },
   "outputs": [],
   "source": [
    "trend_data = pd.DataFrame(list(zip(year_counts.keys(),year_counts.values())),columns = ['Year','Crime_counts'])"
   ]
  },
  {
   "cell_type": "code",
   "execution_count": 58,
   "metadata": {
    "id": "nJAQebzyjPE8"
   },
   "outputs": [],
   "source": [
    "trend_data.sort_values(by=['Year'],inplace=True)"
   ]
  },
  {
   "cell_type": "code",
   "execution_count": 69,
   "metadata": {
    "colab": {
     "base_uri": "https://localhost:8080/",
     "height": 353
    },
    "id": "LkfgYbgsi7m6",
    "outputId": "487d8e5b-8eda-44d8-b402-6a38a46f6968"
   },
   "outputs": [
    {
     "data": {
      "image/png": "[encoded data removed]",
      "text/plain": [
       "<Figure size 720x360 with 1 Axes>"
      ]
     },
     "metadata": {
      "needs_background": "light"
     },
     "output_type": "display_data"
    }
   ],
   "source": [
    "import matplotlib.pyplot as plt\n",
    "\n",
    "trend_data.plot.line(x='Year', y='Crime_counts',legend=False,figsize=(10,5))\n",
    "plt.xlabel('Year',fontsize=12)\n",
    "plt.ylabel('Crime Counts',fontsize=12)\n",
    "plt.title('Crime trend for the years between 2014 and 2023',fontsize=12)\n",
    "plt.grid(True)\n",
    "plt.show()"
   ]
  },
  {
   "cell_type": "markdown",
   "metadata": {
    "id": "miBcfYWtoJgp"
   },
   "source": [
    "**Observations:**\n",
    "\n",
    "1.   From the above line plot, it is evident that the number of crimes \n",
    "recorded is highest during 2014 and lowest in 2023.\n",
    "2.   There is a sharp decline in number of crimes from 2022 to 2023 by observing the slope of line.\n",
    "3.   Also, there is no signficant change in number of crimes from 2016 to 2018."
   ]
  },
  {
   "cell_type": "markdown",
   "metadata": {
    "id": "Sz9F4FR9phAS"
   },
   "source": [
    "**6.2 Find top ten crimes and present them as a bar chart.**"
   ]
  },
  {
   "cell_type": "code",
   "execution_count": 70,
   "metadata": {
    "id": "BzoLtNHfpjPt"
   },
   "outputs": [
    {
     "name": "stdout",
     "output_type": "stream",
     "text": [
      "23/03/26 15:01:47 WARN CSVHeaderChecker: CSV header does not conform to the schema.\n",
      " Header: ID, Case Number, Date, Block, IUCR, Primary Type, Description, Location Description, Arrest, Domestic, Beat, District, Ward, Community Area, FBI Code, X Coordinate, Y Coordinate, Year, Updated On, Latitude, Longitude, Location\n",
      " Schema: ID, CaseNumber, Date, Block, IUCR, PrimaryType, Description, LocationDescription, Arrest, Domestic, Beat, District, Ward, CommunityArea, FBICode, XCoordinate, YCoordinate, Year, UpdatedOn, Latitude, Longitude, Location\n",
      "Expected: CaseNumber but found: Case Number\n",
      "CSV file: file:///Users/harshithnalgonda/Downloads/Chicago_Crimes_Spark/Crimes_-_2001_to_Present.csv\n"
     ]
    },
    {
     "name": "stderr",
     "output_type": "stream",
     "text": [
      "                                                                                \r"
     ]
    }
   ],
   "source": [
    "crime_counts = {}\n",
    "for i in crime_data_merged_crimetypes.groupBy(\"PrimaryType\").count().collect():\n",
    "    crime_counts[i[0]] = i[1]  "
   ]
  },
  {
   "cell_type": "code",
   "execution_count": 71,
   "metadata": {
    "id": "w3w-VVVxqc1V"
   },
   "outputs": [],
   "source": [
    "from collections import Counter\n",
    "crime_counts_top_10 = dict(Counter(crime_counts).most_common(10))"
   ]
  },
  {
   "cell_type": "code",
   "execution_count": 72,
   "metadata": {
    "id": "IhQwgHc6quRb"
   },
   "outputs": [],
   "source": [
    "crimetype_data = pd.DataFrame(list(zip(crime_counts_top_10.keys(),crime_counts_top_10.values()))\n",
    "                  ,columns = ['Crime_type','Crime_counts'])"
   ]
  },
  {
   "cell_type": "code",
   "execution_count": 73,
   "metadata": {
    "colab": {
     "base_uri": "https://localhost:8080/",
     "height": 395
    },
    "id": "zpRRiYitrlv8",
    "outputId": "69af1cec-bc28-4122-c12a-7b9489a49104"
   },
   "outputs": [
    {
     "data": {
      "image/png": "[encoded data removed]",
      "text/plain": [
       "<Figure size 1440x432 with 1 Axes>"
      ]
     },
     "metadata": {
      "needs_background": "light"
     },
     "output_type": "display_data"
    }
   ],
   "source": [
    "crimetype_data.plot(figsize = (20,6), kind = \"bar\", color = \"green\",\n",
    "                    x = \"Crime_type\", y = \"Crime_counts\", legend = False)\n",
    "plt.xlabel('Crime type',fontsize=12)\n",
    "plt.ylabel('Crime Counts',fontsize=12)\n",
    "plt.title('Top 10 crimes',fontsize=12)\n",
    "plt.xticks(rotation = 0)\n",
    "plt.show()"
   ]
  },
  {
   "cell_type": "markdown",
   "metadata": {
    "id": "qmbhJGYvtRnq"
   },
   "source": [
    "**Observations:**\n",
    "\n",
    "1.   Among the top 10 crimes, crimetype theft has the highest number of crimes whereas crimetype weapons-violation has the lowest number of crimes."
   ]
  },
  {
   "cell_type": "markdown",
   "metadata": {
    "id": "EC3Unwpms6k6"
   },
   "source": [
    "**6.3 Find out at which hour of the day crime is highest.**\n"
   ]
  },
  {
   "cell_type": "code",
   "execution_count": 74,
   "metadata": {
    "id": "NR9RX3I2tNgC"
   },
   "outputs": [],
   "source": [
    "#creating a new column by name hour using the data from Date_time column \n",
    "hourly_crime_data = crime_data_merged_crimetypes.withColumn(\"hour\",hour(\"Date_time\"))"
   ]
  },
  {
   "cell_type": "code",
   "execution_count": 75,
   "metadata": {
    "id": "itzhhK1Yw94Q"
   },
   "outputs": [
    {
     "name": "stdout",
     "output_type": "stream",
     "text": [
      "23/03/26 15:01:51 WARN CSVHeaderChecker: CSV header does not conform to the schema.\n",
      " Header: ID, Case Number, Date, Block, IUCR, Primary Type, Description, Location Description, Arrest, Domestic, Beat, District, Ward, Community Area, FBI Code, X Coordinate, Y Coordinate, Year, Updated On, Latitude, Longitude, Location\n",
      " Schema: ID, CaseNumber, Date, Block, IUCR, PrimaryType, Description, LocationDescription, Arrest, Domestic, Beat, District, Ward, CommunityArea, FBICode, XCoordinate, YCoordinate, Year, UpdatedOn, Latitude, Longitude, Location\n",
      "Expected: CaseNumber but found: Case Number\n",
      "CSV file: file:///Users/harshithnalgonda/Downloads/Chicago_Crimes_Spark/Crimes_-_2001_to_Present.csv\n"
     ]
    },
    {
     "name": "stderr",
     "output_type": "stream",
     "text": [
      "                                                                                \r"
     ]
    }
   ],
   "source": [
    "hour_counts = {}\n",
    "for i in hourly_crime_data.groupBy(\"hour\").count().collect():\n",
    "    hour_counts[i[0]] = i[1]  "
   ]
  },
  {
   "cell_type": "code",
   "execution_count": 76,
   "metadata": {
    "id": "eiGfb7fDxC_i"
   },
   "outputs": [],
   "source": [
    "hour_data = pd.DataFrame(list(zip(hour_counts.keys(),hour_counts.values())),columns = ['Hour','Crime_counts']).\\\n",
    "            sort_values(by=['Hour']).reset_index(drop=True)"
   ]
  },
  {
   "cell_type": "code",
   "execution_count": 78,
   "metadata": {
    "colab": {
     "base_uri": "https://localhost:8080/",
     "height": 353
    },
    "id": "BH4M--8dxUoa",
    "outputId": "276763fb-bd68-4783-9943-0332362c47b5"
   },
   "outputs": [
    {
     "data": {
      "image/png": "[encoded data removed]",
      "text/plain": [
       "<Figure size 720x360 with 1 Axes>"
      ]
     },
     "metadata": {
      "needs_background": "light"
     },
     "output_type": "display_data"
    }
   ],
   "source": [
    "hour_data.plot.line(x='Hour', y='Crime_counts',legend=False,figsize=(10,5))\n",
    "u = list(hour_data[hour_data['Crime_counts'] == hour_data['Crime_counts'].max()].Hour)[0]\n",
    "v = list(hour_data[hour_data['Crime_counts'] == hour_data['Crime_counts'].max()].Crime_counts)[0]\n",
    "plt.scatter(u,v)\n",
    "plt.text(u,v,'({0},{1})'.format(u,v))\n",
    "plt.xlabel('Hour',fontsize=12)\n",
    "plt.ylabel('Crime Counts',fontsize=12)\n",
    "plt.title('Crime trend by Hour',fontsize=12)\n",
    "plt.grid(True)\n",
    "plt.show()"
   ]
  },
  {
   "cell_type": "markdown",
   "metadata": {},
   "source": [
    "**Observations:**"
   ]
  },
  {
   "cell_type": "markdown",
   "metadata": {
    "id": "qqgDUc2x0nt9"
   },
   "source": [
    "From the above figure, it is evident that the crime is highest at 12th hour of the day which is noon time."
   ]
  },
  {
   "cell_type": "code",
   "execution_count": null,
   "metadata": {},
   "outputs": [],
   "source": []
  }
 ],
 "metadata": {
  "colab": {
   "provenance": []
  },
  "kernelspec": {
   "display_name": "Python 3 (ipykernel)",
   "language": "python",
   "name": "python3"
  },
  "language_info": {
   "codemirror_mode": {
    "name": "ipython",
    "version": 3
   },
   "file_extension": ".py",
   "mimetype": "text/x-python",
   "name": "python",
   "nbconvert_exporter": "python",
   "pygments_lexer": "ipython3",
   "version": "3.9.12"
  }
 },
 "nbformat": 4,
 "nbformat_minor": 1
}
